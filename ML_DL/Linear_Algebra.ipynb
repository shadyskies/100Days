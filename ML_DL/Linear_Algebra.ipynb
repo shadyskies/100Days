{
  "nbformat": 4,
  "nbformat_minor": 0,
  "metadata": {
    "colab": {
      "name": "Linear Algebra.ipynb",
      "provenance": [],
      "toc_visible": true
    },
    "kernelspec": {
      "name": "python3",
      "display_name": "Python 3"
    },
    "language_info": {
      "name": "python"
    }
  },
  "cells": [
    {
      "cell_type": "markdown",
      "metadata": {
        "id": "pbJ2IetOcj2T"
      },
      "source": [
        "##Scalars"
      ]
    },
    {
      "cell_type": "code",
      "metadata": {
        "colab": {
          "base_uri": "https://localhost:8080/"
        },
        "id": "POQW8cnYb2C_",
        "outputId": "33821188-45aa-433e-a559-17878bbf465a"
      },
      "source": [
        "import tensorflow as tf\n",
        "\n",
        "x = tf.constant([3.0])\n",
        "y = tf.constant([2.0])\n",
        "\n",
        "x+y, x*y, x/y, x**y"
      ],
      "execution_count": 1,
      "outputs": [
        {
          "output_type": "execute_result",
          "data": {
            "text/plain": [
              "(<tf.Tensor: shape=(1,), dtype=float32, numpy=array([5.], dtype=float32)>,\n",
              " <tf.Tensor: shape=(1,), dtype=float32, numpy=array([6.], dtype=float32)>,\n",
              " <tf.Tensor: shape=(1,), dtype=float32, numpy=array([1.5], dtype=float32)>,\n",
              " <tf.Tensor: shape=(1,), dtype=float32, numpy=array([9.], dtype=float32)>)"
            ]
          },
          "metadata": {
            "tags": []
          },
          "execution_count": 1
        }
      ]
    },
    {
      "cell_type": "markdown",
      "metadata": {
        "id": "W2aU0nR_cnCD"
      },
      "source": [
        "##Vectors"
      ]
    },
    {
      "cell_type": "code",
      "metadata": {
        "id": "hQkLj2L8cR5m",
        "colab": {
          "base_uri": "https://localhost:8080/"
        },
        "outputId": "e374df55-7194-4fea-a5ff-279c448d511e"
      },
      "source": [
        "x = tf.range(4)\n",
        "x, x[3]"
      ],
      "execution_count": 2,
      "outputs": [
        {
          "output_type": "execute_result",
          "data": {
            "text/plain": [
              "(<tf.Tensor: shape=(4,), dtype=int32, numpy=array([0, 1, 2, 3], dtype=int32)>,\n",
              " <tf.Tensor: shape=(), dtype=int32, numpy=3>)"
            ]
          },
          "metadata": {
            "tags": []
          },
          "execution_count": 2
        }
      ]
    },
    {
      "cell_type": "code",
      "metadata": {
        "colab": {
          "base_uri": "https://localhost:8080/"
        },
        "id": "-UOZMNkyS468",
        "outputId": "24724dac-3f83-47a2-956c-6156fa99292d"
      },
      "source": [
        "len(x), x.shape #shape returns number of elements in a single axis"
      ],
      "execution_count": 3,
      "outputs": [
        {
          "output_type": "execute_result",
          "data": {
            "text/plain": [
              "(4, TensorShape([4]))"
            ]
          },
          "metadata": {
            "tags": []
          },
          "execution_count": 3
        }
      ]
    },
    {
      "cell_type": "markdown",
      "metadata": {
        "id": "E8Ndd8Y-ToA_"
      },
      "source": [
        "##Matrices"
      ]
    },
    {
      "cell_type": "code",
      "metadata": {
        "colab": {
          "base_uri": "https://localhost:8080/"
        },
        "id": "3IjwPZ28TnF3",
        "outputId": "02b64711-630e-41cf-d71e-18b6a7cfdf45"
      },
      "source": [
        "A = tf.reshape(tf.range(20), (5,4))\n",
        "A, A.shape"
      ],
      "execution_count": 4,
      "outputs": [
        {
          "output_type": "execute_result",
          "data": {
            "text/plain": [
              "(<tf.Tensor: shape=(5, 4), dtype=int32, numpy=\n",
              " array([[ 0,  1,  2,  3],\n",
              "        [ 4,  5,  6,  7],\n",
              "        [ 8,  9, 10, 11],\n",
              "        [12, 13, 14, 15],\n",
              "        [16, 17, 18, 19]], dtype=int32)>, TensorShape([5, 4]))"
            ]
          },
          "metadata": {
            "tags": []
          },
          "execution_count": 4
        }
      ]
    },
    {
      "cell_type": "code",
      "metadata": {
        "colab": {
          "base_uri": "https://localhost:8080/"
        },
        "id": "5Lj62SX9UBh4",
        "outputId": "09235de4-c05c-4410-d436-6f4867805ce9"
      },
      "source": [
        "tf.transpose(A)"
      ],
      "execution_count": 5,
      "outputs": [
        {
          "output_type": "execute_result",
          "data": {
            "text/plain": [
              "<tf.Tensor: shape=(4, 5), dtype=int32, numpy=\n",
              "array([[ 0,  4,  8, 12, 16],\n",
              "       [ 1,  5,  9, 13, 17],\n",
              "       [ 2,  6, 10, 14, 18],\n",
              "       [ 3,  7, 11, 15, 19]], dtype=int32)>"
            ]
          },
          "metadata": {
            "tags": []
          },
          "execution_count": 5
        }
      ]
    },
    {
      "cell_type": "code",
      "metadata": {
        "colab": {
          "base_uri": "https://localhost:8080/"
        },
        "id": "1ddVLH2SVcV5",
        "outputId": "e9a76326-c267-4a36-b929-ad345cd41a43"
      },
      "source": [
        "B = tf.constant([[1, 2, 3], [2, 0, 4], [3, 4, 5]]) #symmetric matrix\n",
        "B"
      ],
      "execution_count": 6,
      "outputs": [
        {
          "output_type": "execute_result",
          "data": {
            "text/plain": [
              "<tf.Tensor: shape=(3, 3), dtype=int32, numpy=\n",
              "array([[1, 2, 3],\n",
              "       [2, 0, 4],\n",
              "       [3, 4, 5]], dtype=int32)>"
            ]
          },
          "metadata": {
            "tags": []
          },
          "execution_count": 6
        }
      ]
    },
    {
      "cell_type": "code",
      "metadata": {
        "colab": {
          "base_uri": "https://localhost:8080/"
        },
        "id": "OOGQQiIjVp8A",
        "outputId": "93877709-ea6e-45c7-f417-5729c43063f3"
      },
      "source": [
        "B == tf.transpose(B)"
      ],
      "execution_count": 7,
      "outputs": [
        {
          "output_type": "execute_result",
          "data": {
            "text/plain": [
              "<tf.Tensor: shape=(3, 3), dtype=bool, numpy=\n",
              "array([[ True,  True,  True],\n",
              "       [ True,  True,  True],\n",
              "       [ True,  True,  True]])>"
            ]
          },
          "metadata": {
            "tags": []
          },
          "execution_count": 7
        }
      ]
    },
    {
      "cell_type": "markdown",
      "metadata": {
        "id": "9QOxxILfV2Br"
      },
      "source": [
        "##Tensors"
      ]
    },
    {
      "cell_type": "code",
      "metadata": {
        "colab": {
          "base_uri": "https://localhost:8080/"
        },
        "id": "IPAMZbP9Vv11",
        "outputId": "e16dcb5d-85ae-4b23-d7c3-e878f6f39814"
      },
      "source": [
        "#n dimensional arrays with arbitrary number of axes\n",
        "X = tf.reshape(tf.range(24), (2,3,4))\n",
        "X"
      ],
      "execution_count": 8,
      "outputs": [
        {
          "output_type": "execute_result",
          "data": {
            "text/plain": [
              "<tf.Tensor: shape=(2, 3, 4), dtype=int32, numpy=\n",
              "array([[[ 0,  1,  2,  3],\n",
              "        [ 4,  5,  6,  7],\n",
              "        [ 8,  9, 10, 11]],\n",
              "\n",
              "       [[12, 13, 14, 15],\n",
              "        [16, 17, 18, 19],\n",
              "        [20, 21, 22, 23]]], dtype=int32)>"
            ]
          },
          "metadata": {
            "tags": []
          },
          "execution_count": 8
        }
      ]
    },
    {
      "cell_type": "code",
      "metadata": {
        "colab": {
          "base_uri": "https://localhost:8080/"
        },
        "id": "dOiMqZ0eWOYw",
        "outputId": "4bc01783-fb6e-41be-c6b6-3e306ef7dcaf"
      },
      "source": [
        "#tensor arithmetic\n",
        "A = tf.reshape(tf.range(20), (5,4))\n",
        "B = A \n",
        "A, A+B #same shape performs elementwise addition"
      ],
      "execution_count": 31,
      "outputs": [
        {
          "output_type": "execute_result",
          "data": {
            "text/plain": [
              "(<tf.Tensor: shape=(5, 4), dtype=int32, numpy=\n",
              " array([[ 0,  1,  2,  3],\n",
              "        [ 4,  5,  6,  7],\n",
              "        [ 8,  9, 10, 11],\n",
              "        [12, 13, 14, 15],\n",
              "        [16, 17, 18, 19]], dtype=int32)>,\n",
              " <tf.Tensor: shape=(5, 4), dtype=int32, numpy=\n",
              " array([[ 0,  2,  4,  6],\n",
              "        [ 8, 10, 12, 14],\n",
              "        [16, 18, 20, 22],\n",
              "        [24, 26, 28, 30],\n",
              "        [32, 34, 36, 38]], dtype=int32)>)"
            ]
          },
          "metadata": {
            "tags": []
          },
          "execution_count": 31
        }
      ]
    },
    {
      "cell_type": "code",
      "metadata": {
        "colab": {
          "base_uri": "https://localhost:8080/"
        },
        "id": "Mq9NHo66WnH2",
        "outputId": "69da50dc-0386-412e-e22b-4ffbe55be77d"
      },
      "source": [
        "A*B"
      ],
      "execution_count": 11,
      "outputs": [
        {
          "output_type": "execute_result",
          "data": {
            "text/plain": [
              "<tf.Tensor: shape=(5, 4), dtype=int32, numpy=\n",
              "array([[  0,   1,   4,   9],\n",
              "       [ 16,  25,  36,  49],\n",
              "       [ 64,  81, 100, 121],\n",
              "       [144, 169, 196, 225],\n",
              "       [256, 289, 324, 361]], dtype=int32)>"
            ]
          },
          "metadata": {
            "tags": []
          },
          "execution_count": 11
        }
      ]
    },
    {
      "cell_type": "code",
      "metadata": {
        "colab": {
          "base_uri": "https://localhost:8080/"
        },
        "id": "umqDqkRFW5bO",
        "outputId": "60b29e43-2633-4095-fc81-9113ebd60c79"
      },
      "source": [
        "a = 2\n",
        "X = tf.reshape(tf.range(24), (2,3,4))\n",
        "a+X, X**a #doesnt change shape of tensor"
      ],
      "execution_count": 12,
      "outputs": [
        {
          "output_type": "execute_result",
          "data": {
            "text/plain": [
              "(<tf.Tensor: shape=(2, 3, 4), dtype=int32, numpy=\n",
              " array([[[ 2,  3,  4,  5],\n",
              "         [ 6,  7,  8,  9],\n",
              "         [10, 11, 12, 13]],\n",
              " \n",
              "        [[14, 15, 16, 17],\n",
              "         [18, 19, 20, 21],\n",
              "         [22, 23, 24, 25]]], dtype=int32)>,\n",
              " <tf.Tensor: shape=(2, 3, 4), dtype=int32, numpy=\n",
              " array([[[  0,   1,   4,   9],\n",
              "         [ 16,  25,  36,  49],\n",
              "         [ 64,  81, 100, 121]],\n",
              " \n",
              "        [[144, 169, 196, 225],\n",
              "         [256, 289, 324, 361],\n",
              "         [400, 441, 484, 529]]], dtype=int32)>)"
            ]
          },
          "metadata": {
            "tags": []
          },
          "execution_count": 12
        }
      ]
    },
    {
      "cell_type": "markdown",
      "metadata": {
        "id": "emFuQReqcsPX"
      },
      "source": [
        "##Reduction/ NonReduction\n",
        "\n",
        "```\n",
        "# This is formatted as code\n",
        "```\n",
        "\n"
      ]
    },
    {
      "cell_type": "code",
      "metadata": {
        "colab": {
          "base_uri": "https://localhost:8080/"
        },
        "id": "Cci8O-M4XQh1",
        "outputId": "bc476aeb-5488-4ccb-ce63-7055c7d759c2"
      },
      "source": [
        "x = tf.range(4, dtype=tf.float32)\n",
        "x, tf.reduce_sum(x) #sum of all elements in tensor"
      ],
      "execution_count": 25,
      "outputs": [
        {
          "output_type": "execute_result",
          "data": {
            "text/plain": [
              "(<tf.Tensor: shape=(4,), dtype=float32, numpy=array([0., 1., 2., 3.], dtype=float32)>,\n",
              " <tf.Tensor: shape=(), dtype=float32, numpy=6.0>)"
            ]
          },
          "metadata": {
            "tags": []
          },
          "execution_count": 25
        }
      ]
    },
    {
      "cell_type": "code",
      "metadata": {
        "colab": {
          "base_uri": "https://localhost:8080/"
        },
        "id": "T0Weg5pBXaeA",
        "outputId": "61e602f8-bbd4-4626-a7c3-70f7b0b78c14"
      },
      "source": [
        "A_sum_axis0 = tf.reduce_sum(A, axis=0)\n",
        "A_sum_axis0, A_sum_axis0.shape"
      ],
      "execution_count": 14,
      "outputs": [
        {
          "output_type": "execute_result",
          "data": {
            "text/plain": [
              "(<tf.Tensor: shape=(4,), dtype=int32, numpy=array([40, 45, 50, 55], dtype=int32)>,\n",
              " TensorShape([4]))"
            ]
          },
          "metadata": {
            "tags": []
          },
          "execution_count": 14
        }
      ]
    },
    {
      "cell_type": "code",
      "metadata": {
        "colab": {
          "base_uri": "https://localhost:8080/"
        },
        "id": "dSk0oSjwbm0M",
        "outputId": "bc7faf69-e25a-4973-e9a7-b07019de9f05"
      },
      "source": [
        "A_sum_axis1 = tf.reduce_sum(A, axis=1)\n",
        "A_sum_axis1"
      ],
      "execution_count": 15,
      "outputs": [
        {
          "output_type": "execute_result",
          "data": {
            "text/plain": [
              "<tf.Tensor: shape=(5,), dtype=int32, numpy=array([ 6, 22, 38, 54, 70], dtype=int32)>"
            ]
          },
          "metadata": {
            "tags": []
          },
          "execution_count": 15
        }
      ]
    },
    {
      "cell_type": "code",
      "metadata": {
        "colab": {
          "base_uri": "https://localhost:8080/"
        },
        "id": "ZE4fh5T7bzCA",
        "outputId": "15c12b5a-2d2c-4751-eaf4-22f92d8851aa"
      },
      "source": [
        "tf.reduce_sum(A, axis = [0,1])#sums all elements"
      ],
      "execution_count": 16,
      "outputs": [
        {
          "output_type": "execute_result",
          "data": {
            "text/plain": [
              "<tf.Tensor: shape=(), dtype=int32, numpy=190>"
            ]
          },
          "metadata": {
            "tags": []
          },
          "execution_count": 16
        }
      ]
    },
    {
      "cell_type": "code",
      "metadata": {
        "colab": {
          "base_uri": "https://localhost:8080/"
        },
        "id": "vIWiftBQcLJD",
        "outputId": "c6ad83a0-284c-4b5b-d54b-f43d391dbb14"
      },
      "source": [
        "tf.reduce_mean(A), tf.reduce_sum(A) / tf.size(A).numpy()"
      ],
      "execution_count": 17,
      "outputs": [
        {
          "output_type": "execute_result",
          "data": {
            "text/plain": [
              "(<tf.Tensor: shape=(), dtype=int32, numpy=9>,\n",
              " <tf.Tensor: shape=(), dtype=float64, numpy=9.5>)"
            ]
          },
          "metadata": {
            "tags": []
          },
          "execution_count": 17
        }
      ]
    },
    {
      "cell_type": "code",
      "metadata": {
        "colab": {
          "base_uri": "https://localhost:8080/"
        },
        "id": "CI7bY-oQcTX2",
        "outputId": "a642df91-f18f-47dd-8e49-a477079f20cc"
      },
      "source": [
        "tf.reduce_mean(A, axis=0), tf.reduce_sum(A, axis=0) / A.shape[0] #calculate mean across specific dimension"
      ],
      "execution_count": 18,
      "outputs": [
        {
          "output_type": "execute_result",
          "data": {
            "text/plain": [
              "(<tf.Tensor: shape=(4,), dtype=int32, numpy=array([ 8,  9, 10, 11], dtype=int32)>,\n",
              " <tf.Tensor: shape=(4,), dtype=float64, numpy=array([ 8.,  9., 10., 11.])>)"
            ]
          },
          "metadata": {
            "tags": []
          },
          "execution_count": 18
        }
      ]
    },
    {
      "cell_type": "code",
      "metadata": {
        "colab": {
          "base_uri": "https://localhost:8080/"
        },
        "id": "ZlaaoHg6cfXw",
        "outputId": "bb43e802-e8a1-407a-f0f3-f7d3924c7e94"
      },
      "source": [
        "#sometimes helpful to keep number of axes unchanged\n",
        "sum_A = tf.reduce_sum(A, axis=1, keepdims=True)\n",
        "sum_A"
      ],
      "execution_count": 19,
      "outputs": [
        {
          "output_type": "execute_result",
          "data": {
            "text/plain": [
              "<tf.Tensor: shape=(5, 1), dtype=int32, numpy=\n",
              "array([[ 6],\n",
              "       [22],\n",
              "       [38],\n",
              "       [54],\n",
              "       [70]], dtype=int32)>"
            ]
          },
          "metadata": {
            "tags": []
          },
          "execution_count": 19
        }
      ]
    },
    {
      "cell_type": "code",
      "metadata": {
        "colab": {
          "base_uri": "https://localhost:8080/"
        },
        "id": "8_2B1ooedC_h",
        "outputId": "acfa4a7f-9c81-4fc7-8ba0-2759c101c409"
      },
      "source": [
        "A/sum_A #using broadcasting"
      ],
      "execution_count": 20,
      "outputs": [
        {
          "output_type": "execute_result",
          "data": {
            "text/plain": [
              "<tf.Tensor: shape=(5, 4), dtype=float64, numpy=\n",
              "array([[0.        , 0.16666667, 0.33333333, 0.5       ],\n",
              "       [0.18181818, 0.22727273, 0.27272727, 0.31818182],\n",
              "       [0.21052632, 0.23684211, 0.26315789, 0.28947368],\n",
              "       [0.22222222, 0.24074074, 0.25925926, 0.27777778],\n",
              "       [0.22857143, 0.24285714, 0.25714286, 0.27142857]])>"
            ]
          },
          "metadata": {
            "tags": []
          },
          "execution_count": 20
        }
      ]
    },
    {
      "cell_type": "code",
      "metadata": {
        "colab": {
          "base_uri": "https://localhost:8080/"
        },
        "id": "aNH_cjEsdLrw",
        "outputId": "62963779-a791-4033-ebba-6aefb98a8d29"
      },
      "source": [
        "#cumulative sum across axis\n",
        "tf.cumsum(A, axis=0)"
      ],
      "execution_count": 21,
      "outputs": [
        {
          "output_type": "execute_result",
          "data": {
            "text/plain": [
              "<tf.Tensor: shape=(5, 4), dtype=int32, numpy=\n",
              "array([[ 0,  1,  2,  3],\n",
              "       [ 4,  6,  8, 10],\n",
              "       [12, 15, 18, 21],\n",
              "       [24, 28, 32, 36],\n",
              "       [40, 45, 50, 55]], dtype=int32)>"
            ]
          },
          "metadata": {
            "tags": []
          },
          "execution_count": 21
        }
      ]
    },
    {
      "cell_type": "markdown",
      "metadata": {
        "id": "F8px2Nxcdm-P"
      },
      "source": [
        "##Dot Products"
      ]
    },
    {
      "cell_type": "code",
      "metadata": {
        "colab": {
          "base_uri": "https://localhost:8080/"
        },
        "id": "SJo3I-b_dkJI",
        "outputId": "c555be4b-e3ca-4524-fea6-2263bc6f7d8a"
      },
      "source": [
        "y = tf.ones(4, dtype=tf.float32)\n",
        "x,y, tf.tensordot(x,y,axes=1)"
      ],
      "execution_count": 26,
      "outputs": [
        {
          "output_type": "execute_result",
          "data": {
            "text/plain": [
              "(<tf.Tensor: shape=(4,), dtype=float32, numpy=array([0., 1., 2., 3.], dtype=float32)>,\n",
              " <tf.Tensor: shape=(4,), dtype=float32, numpy=array([1., 1., 1., 1.], dtype=float32)>,\n",
              " <tf.Tensor: shape=(), dtype=float32, numpy=6.0>)"
            ]
          },
          "metadata": {
            "tags": []
          },
          "execution_count": 26
        }
      ]
    },
    {
      "cell_type": "code",
      "metadata": {
        "colab": {
          "base_uri": "https://localhost:8080/"
        },
        "id": "oj3X0AoZd4cx",
        "outputId": "0547cbe8-ffe7-4297-ddf0-e703c95bff00"
      },
      "source": [
        "# same as elementwise mul and then reducesum\n",
        "tf.reduce_sum(x*y)\n",
        "# weighted sum of the values in  x  according to the weights  w  could be expressed as the dot product  x⊤w . When the weights are non-negative and sum to one \n",
        "#(i.e.,  (∑di=1wi=1) ), the dot product expresses a weighted average. "
      ],
      "execution_count": 27,
      "outputs": [
        {
          "output_type": "execute_result",
          "data": {
            "text/plain": [
              "<tf.Tensor: shape=(), dtype=float32, numpy=6.0>"
            ]
          },
          "metadata": {
            "tags": []
          },
          "execution_count": 27
        }
      ]
    },
    {
      "cell_type": "markdown",
      "metadata": {
        "id": "HgR3KTzde6Rf"
      },
      "source": [
        "##Matrix Vector Products"
      ]
    },
    {
      "cell_type": "code",
      "metadata": {
        "colab": {
          "base_uri": "https://localhost:8080/"
        },
        "id": "dEVL4ubLeiUI",
        "outputId": "99d4eee6-c500-49d6-d288-961846df6bc3"
      },
      "source": [
        "import numpy as np\n",
        "\n",
        "A.shape, x.shape, np.dot(A,x)"
      ],
      "execution_count": 35,
      "outputs": [
        {
          "output_type": "execute_result",
          "data": {
            "text/plain": [
              "(TensorShape([5, 4]), TensorShape([4]), array([ 14.,  38.,  62.,  86., 110.]))"
            ]
          },
          "metadata": {
            "tags": []
          },
          "execution_count": 35
        }
      ]
    },
    {
      "cell_type": "code",
      "metadata": {
        "colab": {
          "base_uri": "https://localhost:8080/"
        },
        "id": "gkPNWISagtu8",
        "outputId": "23ac334b-17e0-477c-9c3e-91454fa93e0f"
      },
      "source": [
        "B = tf.ones((4,3), tf.float32)\n",
        "np.dot(A,B)"
      ],
      "execution_count": 38,
      "outputs": [
        {
          "output_type": "execute_result",
          "data": {
            "text/plain": [
              "array([[ 6.,  6.,  6.],\n",
              "       [22., 22., 22.],\n",
              "       [38., 38., 38.],\n",
              "       [54., 54., 54.],\n",
              "       [70., 70., 70.]])"
            ]
          },
          "metadata": {
            "tags": []
          },
          "execution_count": 38
        }
      ]
    },
    {
      "cell_type": "markdown",
      "metadata": {
        "id": "S3YUAPMvlL4L"
      },
      "source": [
        "##Norms"
      ]
    },
    {
      "cell_type": "code",
      "metadata": {
        "colab": {
          "base_uri": "https://localhost:8080/"
        },
        "id": "zN2lCXaJlCmz",
        "outputId": "3f07db63-f4ee-4468-8263-03306f5f7425"
      },
      "source": [
        "#norms tell us how big a vector is\n",
        "u = tf.constant([3.0, -4.0])\n",
        "np.linalg.norm(u) #l2 norm"
      ],
      "execution_count": 39,
      "outputs": [
        {
          "output_type": "execute_result",
          "data": {
            "text/plain": [
              "5.0"
            ]
          },
          "metadata": {
            "tags": []
          },
          "execution_count": 39
        }
      ]
    },
    {
      "cell_type": "code",
      "metadata": {
        "colab": {
          "base_uri": "https://localhost:8080/"
        },
        "id": "p5zzaZpkrE6q",
        "outputId": "cac5f48f-e514-435c-a3fc-41ce770022ea"
      },
      "source": [
        "#l1 norm (less influenced to outliers)\n",
        "np.abs(u).sum()"
      ],
      "execution_count": 40,
      "outputs": [
        {
          "output_type": "execute_result",
          "data": {
            "text/plain": [
              "7.0"
            ]
          },
          "metadata": {
            "tags": []
          },
          "execution_count": 40
        }
      ]
    },
    {
      "cell_type": "code",
      "metadata": {
        "colab": {
          "base_uri": "https://localhost:8080/"
        },
        "id": "-wdc9zgWrijH",
        "outputId": "52fa27cd-4014-4f04-e8a5-e2486feec4ce"
      },
      "source": [
        "#frobenius norm\n",
        "np.linalg.norm(np.ones((4,9)))"
      ],
      "execution_count": 42,
      "outputs": [
        {
          "output_type": "execute_result",
          "data": {
            "text/plain": [
              "6.0"
            ]
          },
          "metadata": {
            "tags": []
          },
          "execution_count": 42
        }
      ]
    },
    {
      "cell_type": "markdown",
      "metadata": {
        "id": "jC-pP1LmsB1h"
      },
      "source": [
        "##Exercises"
      ]
    },
    {
      "cell_type": "code",
      "metadata": {
        "colab": {
          "base_uri": "https://localhost:8080/"
        },
        "id": "o1A5TZUHsoOz",
        "outputId": "6a764567-864c-46f5-a52b-00053e3fc791"
      },
      "source": [
        "A == tf.transpose(tf.transpose(A))"
      ],
      "execution_count": 43,
      "outputs": [
        {
          "output_type": "execute_result",
          "data": {
            "text/plain": [
              "<tf.Tensor: shape=(5, 4), dtype=bool, numpy=\n",
              "array([[ True,  True,  True,  True],\n",
              "       [ True,  True,  True,  True],\n",
              "       [ True,  True,  True,  True],\n",
              "       [ True,  True,  True,  True],\n",
              "       [ True,  True,  True,  True]])>"
            ]
          },
          "metadata": {
            "tags": []
          },
          "execution_count": 43
        }
      ]
    },
    {
      "cell_type": "code",
      "metadata": {
        "colab": {
          "base_uri": "https://localhost:8080/"
        },
        "id": "3SDx6PjtszAA",
        "outputId": "d15f6e80-6aa0-4660-f1bd-392d9203f8b3"
      },
      "source": [
        "A = tf.reshape(range(20), (4,5))\n",
        "B = tf.reshape(range(1, 21), (4,5))\n",
        "tf.transpose(A) + tf.transpose(B) == tf.transpose(A+B)"
      ],
      "execution_count": 52,
      "outputs": [
        {
          "output_type": "execute_result",
          "data": {
            "text/plain": [
              "<tf.Tensor: shape=(5, 4), dtype=bool, numpy=\n",
              "array([[ True,  True,  True,  True],\n",
              "       [ True,  True,  True,  True],\n",
              "       [ True,  True,  True,  True],\n",
              "       [ True,  True,  True,  True],\n",
              "       [ True,  True,  True,  True]])>"
            ]
          },
          "metadata": {
            "tags": []
          },
          "execution_count": 52
        }
      ]
    },
    {
      "cell_type": "code",
      "metadata": {
        "colab": {
          "base_uri": "https://localhost:8080/"
        },
        "id": "X6OR6CjFtHui",
        "outputId": "d181a465-f3e6-414f-a919-a52f95129f21"
      },
      "source": [
        "np.array(A).sum(axis=1), np.array(A)\n",
        "# np.array(A) / np.array(A).sum(axis=1) #cannot broadcast as dims dont match"
      ],
      "execution_count": 55,
      "outputs": [
        {
          "output_type": "execute_result",
          "data": {
            "text/plain": [
              "(array([10, 35, 60, 85]), array([[ 0,  1,  2,  3,  4],\n",
              "        [ 5,  6,  7,  8,  9],\n",
              "        [10, 11, 12, 13, 14],\n",
              "        [15, 16, 17, 18, 19]], dtype=int32))"
            ]
          },
          "metadata": {
            "tags": []
          },
          "execution_count": 55
        }
      ]
    },
    {
      "cell_type": "code",
      "metadata": {
        "id": "pjEwsMI3v4PL"
      },
      "source": [
        ""
      ],
      "execution_count": null,
      "outputs": []
    }
  ]
}