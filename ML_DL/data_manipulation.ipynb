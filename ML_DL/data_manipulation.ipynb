{
  "nbformat": 4,
  "nbformat_minor": 0,
  "metadata": {
    "colab": {
      "name": "data_manipulation.ipynb",
      "provenance": [],
      "collapsed_sections": [],
      "toc_visible": true
    },
    "kernelspec": {
      "name": "python3",
      "display_name": "Python 3"
    }
  },
  "cells": [
    {
      "cell_type": "markdown",
      "metadata": {
        "id": "U3IgHimL_ZCn"
      },
      "source": [
        "##Intro"
      ]
    },
    {
      "cell_type": "code",
      "metadata": {
        "id": "JyZ2XI5N76Mh"
      },
      "source": [
        "import tensorflow as tf"
      ],
      "execution_count": 1,
      "outputs": []
    },
    {
      "cell_type": "code",
      "metadata": {
        "colab": {
          "base_uri": "https://localhost:8080/"
        },
        "id": "nJlOV5jN8JE0",
        "outputId": "224ed3a6-eeff-4cf1-de50-127825a2c7e6"
      },
      "source": [
        "x = tf.range(10)\n",
        "print(tf.size(x))\n",
        "print(x)\n",
        "x = tf.reshape(x, (2,5))\n",
        "x"
      ],
      "execution_count": 2,
      "outputs": [
        {
          "output_type": "stream",
          "text": [
            "tf.Tensor(10, shape=(), dtype=int32)\n",
            "tf.Tensor([0 1 2 3 4 5 6 7 8 9], shape=(10,), dtype=int32)\n"
          ],
          "name": "stdout"
        },
        {
          "output_type": "execute_result",
          "data": {
            "text/plain": [
              "<tf.Tensor: shape=(2, 5), dtype=int32, numpy=\n",
              "array([[0, 1, 2, 3, 4],\n",
              "       [5, 6, 7, 8, 9]], dtype=int32)>"
            ]
          },
          "metadata": {
            "tags": []
          },
          "execution_count": 2
        }
      ]
    },
    {
      "cell_type": "code",
      "metadata": {
        "colab": {
          "base_uri": "https://localhost:8080/"
        },
        "id": "_75dolKx8eek",
        "outputId": "1dcd62c3-43a5-4c54-da47-0639e5e0718d"
      },
      "source": [
        "print(tf.zeros((2,3,4)))\n",
        "print(tf.ones((1,2,4)))"
      ],
      "execution_count": 3,
      "outputs": [
        {
          "output_type": "stream",
          "text": [
            "tf.Tensor(\n",
            "[[[0. 0. 0. 0.]\n",
            "  [0. 0. 0. 0.]\n",
            "  [0. 0. 0. 0.]]\n",
            "\n",
            " [[0. 0. 0. 0.]\n",
            "  [0. 0. 0. 0.]\n",
            "  [0. 0. 0. 0.]]], shape=(2, 3, 4), dtype=float32)\n",
            "tf.Tensor(\n",
            "[[[1. 1. 1. 1.]\n",
            "  [1. 1. 1. 1.]]], shape=(1, 2, 4), dtype=float32)\n"
          ],
          "name": "stdout"
        }
      ]
    },
    {
      "cell_type": "code",
      "metadata": {
        "colab": {
          "base_uri": "https://localhost:8080/"
        },
        "id": "T6JWUL_w9lNx",
        "outputId": "854c018a-35f2-4a87-b059-b69cec67fe30"
      },
      "source": [
        "#for randomly sampling values from some random distribution\n",
        "tf.random.normal(shape=[2,3])"
      ],
      "execution_count": 4,
      "outputs": [
        {
          "output_type": "execute_result",
          "data": {
            "text/plain": [
              "<tf.Tensor: shape=(2, 3), dtype=float32, numpy=\n",
              "array([[-0.7850897 , -0.9538179 ,  0.2451088 ],\n",
              "       [-0.955983  , -0.3464054 ,  0.60390747]], dtype=float32)>"
            ]
          },
          "metadata": {
            "tags": []
          },
          "execution_count": 4
        }
      ]
    },
    {
      "cell_type": "code",
      "metadata": {
        "colab": {
          "base_uri": "https://localhost:8080/"
        },
        "id": "OEYH8GfU-qoM",
        "outputId": "af4a9b7f-defc-465e-90b0-5e0426fecb71"
      },
      "source": [
        "#creating tensor from python lists\n",
        "tf.constant([[1,3,4],[1,4,2],[5,7,6]])"
      ],
      "execution_count": 5,
      "outputs": [
        {
          "output_type": "execute_result",
          "data": {
            "text/plain": [
              "<tf.Tensor: shape=(3, 3), dtype=int32, numpy=\n",
              "array([[1, 3, 4],\n",
              "       [1, 4, 2],\n",
              "       [5, 7, 6]], dtype=int32)>"
            ]
          },
          "metadata": {
            "tags": []
          },
          "execution_count": 5
        }
      ]
    },
    {
      "cell_type": "markdown",
      "metadata": {
        "id": "FC4RvghM_RPQ"
      },
      "source": [
        "##Operations"
      ]
    },
    {
      "cell_type": "code",
      "metadata": {
        "colab": {
          "base_uri": "https://localhost:8080/"
        },
        "id": "iJ53cC5Z_Hb0",
        "outputId": "64a5bdf4-4c3a-4539-9440-5cd44fd1f438"
      },
      "source": [
        "#common standard operations can be done element wise in same shape array\n",
        "x = tf.constant([1.0, 2, 4, 8])\n",
        "y = tf.constant([2.0, 2, 2, 2])\n",
        "x + y, x - y, x * y, x / y, x ** y  # The ** operator is exponentiation"
      ],
      "execution_count": 6,
      "outputs": [
        {
          "output_type": "execute_result",
          "data": {
            "text/plain": [
              "(<tf.Tensor: shape=(4,), dtype=float32, numpy=array([ 3.,  4.,  6., 10.], dtype=float32)>,\n",
              " <tf.Tensor: shape=(4,), dtype=float32, numpy=array([-1.,  0.,  2.,  6.], dtype=float32)>,\n",
              " <tf.Tensor: shape=(4,), dtype=float32, numpy=array([ 2.,  4.,  8., 16.], dtype=float32)>,\n",
              " <tf.Tensor: shape=(4,), dtype=float32, numpy=array([0.5, 1. , 2. , 4. ], dtype=float32)>,\n",
              " <tf.Tensor: shape=(4,), dtype=float32, numpy=array([ 1.,  4., 16., 64.], dtype=float32)>)"
            ]
          },
          "metadata": {
            "tags": []
          },
          "execution_count": 6
        }
      ]
    },
    {
      "cell_type": "code",
      "metadata": {
        "colab": {
          "base_uri": "https://localhost:8080/"
        },
        "id": "mCCz9uLmBJcJ",
        "outputId": "31360713-56ad-4bfa-b126-8628964caf0e"
      },
      "source": [
        "#exponentiation operations can also be done\n",
        "tf.exp(x)"
      ],
      "execution_count": 7,
      "outputs": [
        {
          "output_type": "execute_result",
          "data": {
            "text/plain": [
              "<tf.Tensor: shape=(4,), dtype=float32, numpy=\n",
              "array([2.7182817e+00, 7.3890562e+00, 5.4598148e+01, 2.9809580e+03],\n",
              "      dtype=float32)>"
            ]
          },
          "metadata": {
            "tags": []
          },
          "execution_count": 7
        }
      ]
    },
    {
      "cell_type": "code",
      "metadata": {
        "colab": {
          "base_uri": "https://localhost:8080/"
        },
        "id": "-5aUVhwWBnPV",
        "outputId": "f7211cdf-7e7f-4205-ba12-2029f15741b2"
      },
      "source": [
        "#linear algebra operations(dot product, matmul) can also be carried out\n",
        "#concatting two tensors only when tensors are rectangular\n",
        "a = tf.reshape(tf.range(12), shape=[3,4])\n",
        "b = tf.constant([[1,2,34,5],[5,6,7,8],[2,4,6,8]])\n",
        "tf.concat([a,b], axis=1),tf.concat([a,b], axis=0)"
      ],
      "execution_count": 8,
      "outputs": [
        {
          "output_type": "execute_result",
          "data": {
            "text/plain": [
              "(<tf.Tensor: shape=(3, 8), dtype=int32, numpy=\n",
              " array([[ 0,  1,  2,  3,  1,  2, 34,  5],\n",
              "        [ 4,  5,  6,  7,  5,  6,  7,  8],\n",
              "        [ 8,  9, 10, 11,  2,  4,  6,  8]], dtype=int32)>,\n",
              " <tf.Tensor: shape=(6, 4), dtype=int32, numpy=\n",
              " array([[ 0,  1,  2,  3],\n",
              "        [ 4,  5,  6,  7],\n",
              "        [ 8,  9, 10, 11],\n",
              "        [ 1,  2, 34,  5],\n",
              "        [ 5,  6,  7,  8],\n",
              "        [ 2,  4,  6,  8]], dtype=int32)>)"
            ]
          },
          "metadata": {
            "tags": []
          },
          "execution_count": 8
        }
      ]
    },
    {
      "cell_type": "code",
      "metadata": {
        "colab": {
          "base_uri": "https://localhost:8080/"
        },
        "id": "edmFQxQDDHod",
        "outputId": "1b31109c-19e8-4efe-a5cb-c8cde0b799d0"
      },
      "source": [
        "#can create a boolean tensor\n",
        "a==b"
      ],
      "execution_count": 9,
      "outputs": [
        {
          "output_type": "execute_result",
          "data": {
            "text/plain": [
              "<tf.Tensor: shape=(3, 4), dtype=bool, numpy=\n",
              "array([[False, False, False, False],\n",
              "       [False, False, False, False],\n",
              "       [False, False, False, False]])>"
            ]
          },
          "metadata": {
            "tags": []
          },
          "execution_count": 9
        }
      ]
    },
    {
      "cell_type": "code",
      "metadata": {
        "colab": {
          "base_uri": "https://localhost:8080/"
        },
        "id": "_cb6j_1IDk1N",
        "outputId": "1aa5e4b5-8f3d-4fcb-fdd5-b1c10c704640"
      },
      "source": [
        "#summing all elements in tensor\n",
        "tf.reduce_sum(b)"
      ],
      "execution_count": 10,
      "outputs": [
        {
          "output_type": "execute_result",
          "data": {
            "text/plain": [
              "<tf.Tensor: shape=(), dtype=int32, numpy=88>"
            ]
          },
          "metadata": {
            "tags": []
          },
          "execution_count": 10
        }
      ]
    },
    {
      "cell_type": "markdown",
      "metadata": {
        "id": "H9kVPXDJDyjy"
      },
      "source": [
        "##Broadcasting"
      ]
    },
    {
      "cell_type": "code",
      "metadata": {
        "id": "cc84uC3nDu22",
        "colab": {
          "base_uri": "https://localhost:8080/"
        },
        "outputId": "335def6f-920f-4f53-e4cf-80ecd88ce8f3"
      },
      "source": [
        "#used when the shapes are not same (expand one/both tensors to equal shape and then operation)\n",
        "a = tf.reshape(tf.range(3), (3,1))\n",
        "b = tf.reshape(tf.range(2), (1,2))\n",
        "a, b"
      ],
      "execution_count": 11,
      "outputs": [
        {
          "output_type": "execute_result",
          "data": {
            "text/plain": [
              "(<tf.Tensor: shape=(3, 1), dtype=int32, numpy=\n",
              " array([[0],\n",
              "        [1],\n",
              "        [2]], dtype=int32)>,\n",
              " <tf.Tensor: shape=(1, 2), dtype=int32, numpy=array([[0, 1]], dtype=int32)>)"
            ]
          },
          "metadata": {
            "tags": []
          },
          "execution_count": 11
        }
      ]
    },
    {
      "cell_type": "code",
      "metadata": {
        "colab": {
          "base_uri": "https://localhost:8080/"
        },
        "id": "3Cp9TjsfmZuj",
        "outputId": "b3294228-c453-42d4-affc-62253b048ba2"
      },
      "source": [
        "a + b, a * b, (a+b).shape"
      ],
      "execution_count": 12,
      "outputs": [
        {
          "output_type": "execute_result",
          "data": {
            "text/plain": [
              "(<tf.Tensor: shape=(3, 2), dtype=int32, numpy=\n",
              " array([[0, 1],\n",
              "        [1, 2],\n",
              "        [2, 3]], dtype=int32)>, <tf.Tensor: shape=(3, 2), dtype=int32, numpy=\n",
              " array([[0, 0],\n",
              "        [0, 1],\n",
              "        [0, 2]], dtype=int32)>, TensorShape([3, 2]))"
            ]
          },
          "metadata": {
            "tags": []
          },
          "execution_count": 12
        }
      ]
    },
    {
      "cell_type": "markdown",
      "metadata": {
        "id": "J5FFW35CmlaG"
      },
      "source": [
        "##Indexing and Slicing"
      ]
    },
    {
      "cell_type": "code",
      "metadata": {
        "colab": {
          "base_uri": "https://localhost:8080/"
        },
        "id": "nzeoEim4meoP",
        "outputId": "8ed7769e-5ca9-484c-ad10-186f035e5bc4"
      },
      "source": [
        "#similar to python\n",
        "tmp = a + b\n",
        "print(tmp[-1]) #last row of multid tensor\n",
        "print(tmp[0:2]) #slicing"
      ],
      "execution_count": 13,
      "outputs": [
        {
          "output_type": "stream",
          "text": [
            "tf.Tensor([2 3], shape=(2,), dtype=int32)\n",
            "tf.Tensor(\n",
            "[[0 1]\n",
            " [1 2]], shape=(2, 2), dtype=int32)\n"
          ],
          "name": "stdout"
        }
      ]
    },
    {
      "cell_type": "code",
      "metadata": {
        "colab": {
          "base_uri": "https://localhost:8080/"
        },
        "id": "qJxF9Xkmm1Ii",
        "outputId": "4ce47c68-ca44-425f-85df-65fc6bee76b8"
      },
      "source": [
        "#tensors are immutable\n",
        "tmp = a+b\n",
        "#tmp[1,1] = 9 #will throw error\n",
        "x_var = tf.Variable(tmp)\n",
        "x_var[1,1].assign(6)\n",
        "x_var"
      ],
      "execution_count": 14,
      "outputs": [
        {
          "output_type": "execute_result",
          "data": {
            "text/plain": [
              "<tf.Variable 'Variable:0' shape=(3, 2) dtype=int32, numpy=\n",
              "array([[0, 1],\n",
              "       [1, 6],\n",
              "       [2, 3]], dtype=int32)>"
            ]
          },
          "metadata": {
            "tags": []
          },
          "execution_count": 14
        }
      ]
    },
    {
      "cell_type": "code",
      "metadata": {
        "colab": {
          "base_uri": "https://localhost:8080/"
        },
        "id": "Az1PCVCTMqXI",
        "outputId": "f9da6c09-6fe0-4e19-99da-1fc0028859fa"
      },
      "source": [
        "a = tf.reshape(tf.range(12, dtype=tf.float32),(3,4))\n",
        "X_var = tf.Variable(a)\n",
        "X_var[0:2, :].assign(tf.ones(X_var[0:2,:].shape, dtype = tf.float32) * 12)\n",
        "X_var"
      ],
      "execution_count": 18,
      "outputs": [
        {
          "output_type": "execute_result",
          "data": {
            "text/plain": [
              "<tf.Variable 'Variable:0' shape=(3, 4) dtype=float32, numpy=\n",
              "array([[12., 12., 12., 12.],\n",
              "       [12., 12., 12., 12.],\n",
              "       [ 8.,  9., 10., 11.]], dtype=float32)>"
            ]
          },
          "metadata": {
            "tags": []
          },
          "execution_count": 18
        }
      ]
    },
    {
      "cell_type": "markdown",
      "metadata": {
        "id": "fHi-aZRxcFOi"
      },
      "source": [
        "##Saving Memory"
      ]
    },
    {
      "cell_type": "code",
      "metadata": {
        "id": "_--eNJSWMoOe",
        "colab": {
          "base_uri": "https://localhost:8080/"
        },
        "outputId": "bcdcf51e-f0ee-4c5f-9a08-6941030f6fe8"
      },
      "source": [
        "#python derefences pointer to object when it is reassigned,\n",
        "# This might be undesirable for two reasons. \n",
        "# First, we do not want to run around allocating memory unnecessarily all the time. \n",
        "# In machine learning, we might have hundreds of megabytes of parameters and update all of them multiple times per second. \n",
        "# Typically, we will want to perform these updates in place. Second, we might point at the same parameters from multiple variables. \n",
        "# If we do not update in place, other references will still point to the old memory location,\n",
        "#  making it possible for parts of our code to inadvertently reference stale parameters.\n",
        "\n",
        "X = tf.reshape(tf.range(12, dtype=tf.float32), (3, 4))\n",
        "Y = tf.constant([[2.0, 1, 4, 3], [1, 2, 3, 4], [4, 3, 2, 1]])\n",
        "z = tf.Variable(tf.zeros_like(Y))\n",
        "print(f\"id(z):{id(z)}\")\n",
        "z.assign(X+Y)\n",
        "print(f\"id(z):{id(z)}\")"
      ],
      "execution_count": 30,
      "outputs": [
        {
          "output_type": "stream",
          "text": [
            "id(z):140001483122192\n",
            "id(z):140001483122192\n"
          ],
          "name": "stdout"
        }
      ]
    },
    {
      "cell_type": "code",
      "metadata": {
        "colab": {
          "base_uri": "https://localhost:8080/"
        },
        "id": "T-ZBlVK2c74G",
        "outputId": "b3662a10-d7d5-4826-f232-44c1d00c6503"
      },
      "source": [
        "# TensorFlow provides the tf.function decorator to wrap computation inside of a TensorFlow graph that gets compiled and optimized before running. \n",
        "# This allows TensorFlow to prune unused values, and to re-use prior allocations that are no longer needed. This minimizes the memory overhead of TensorFlow computations.\n",
        "\n",
        "@tf.function\n",
        "def computation(X, Y):\n",
        "    Z = tf.zeros_like(Y)  # This unused value will be pruned out\n",
        "    A = X + Y  # Allocations will be re-used when no longer needed\n",
        "    B = A + Y\n",
        "    C = B + Y\n",
        "    return C + Y\n",
        "\n",
        "computation(X, Y)\n"
      ],
      "execution_count": 31,
      "outputs": [
        {
          "output_type": "execute_result",
          "data": {
            "text/plain": [
              "<tf.Tensor: shape=(3, 4), dtype=float32, numpy=\n",
              "array([[ 8.,  5., 18., 15.],\n",
              "       [ 8., 13., 18., 23.],\n",
              "       [24., 21., 18., 15.]], dtype=float32)>"
            ]
          },
          "metadata": {
            "tags": []
          },
          "execution_count": 31
        }
      ]
    },
    {
      "cell_type": "markdown",
      "metadata": {
        "id": "iJuqJQKCfwPu"
      },
      "source": [
        "##Converting to Python objects\n"
      ]
    },
    {
      "cell_type": "code",
      "metadata": {
        "colab": {
          "base_uri": "https://localhost:8080/"
        },
        "id": "hf_zE9FHf1We",
        "outputId": "0693a2a3-26c0-4da1-a8aa-90142b2d63b7"
      },
      "source": [
        "import numpy\n",
        "a = tf.constant([3,5]).numpy()\n",
        "a"
      ],
      "execution_count": 35,
      "outputs": [
        {
          "output_type": "execute_result",
          "data": {
            "text/plain": [
              "array([3, 5], dtype=int32)"
            ]
          },
          "metadata": {
            "tags": []
          },
          "execution_count": 35
        }
      ]
    }
  ]
}